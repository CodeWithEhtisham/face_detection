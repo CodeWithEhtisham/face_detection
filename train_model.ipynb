{
 "cells": [
  {
   "cell_type": "code",
   "execution_count": 1,
   "metadata": {},
   "outputs": [
    {
     "name": "stdout",
     "output_type": "stream",
     "text": [
      "testing\n"
     ]
    }
   ],
   "source": [
    "print(\"testing\")"
   ]
  },
  {
   "cell_type": "code",
   "execution_count": 2,
   "metadata": {},
   "outputs": [],
   "source": [
    "import tensorflow"
   ]
  },
  {
   "cell_type": "code",
   "execution_count": 3,
   "metadata": {},
   "outputs": [
    {
     "data": {
      "text/plain": [
       "'1.15.0'"
      ]
     },
     "execution_count": 3,
     "metadata": {},
     "output_type": "execute_result"
    }
   ],
   "source": [
    "tensorflow.__version__"
   ]
  },
  {
   "cell_type": "code",
   "execution_count": 5,
   "metadata": {},
   "outputs": [],
   "source": [
    "from sklearn.preprocessing import LabelBinarizer\n",
    "from sklearn.model_selection import train_test_split\n",
    "from sklearn.metrics import classification_report\n",
    "from imutils import paths\n",
    "import matplotlib.pyplot as plt\n",
    "import numpy as np\n",
    "import os"
   ]
  },
  {
   "cell_type": "code",
   "execution_count": 6,
   "metadata": {},
   "outputs": [],
   "source": [
    "from tensorflow.keras.preprocessing.image import ImageDataGenerator\n",
    "from tensorflow.keras.applications import MobileNetV2\n",
    "from tensorflow.keras.layers import AveragePooling2D\n",
    "from tensorflow.keras.layers import Dropout\n",
    "from tensorflow.keras.layers import Flatten\n",
    "from tensorflow.keras.layers import Dense\n",
    "from tensorflow.keras.layers import Input\n",
    "from tensorflow.keras.models import Model\n",
    "from tensorflow.keras.optimizers import Adam\n",
    "from tensorflow.keras.applications.mobilenet_v2 import preprocess_input\n",
    "from tensorflow.keras.preprocessing.image import img_to_array\n",
    "from tensorflow.keras.preprocessing.image import load_img\n",
    "from tensorflow.keras.utils import to_categorical"
   ]
  },
  {
   "cell_type": "code",
   "execution_count": 7,
   "metadata": {},
   "outputs": [],
   "source": [
    "# initialize the initial learning rate, number of epochs to train for,\n",
    "# and batch size\n",
    "INIT_LR = 1e-4\n",
    "EPOCHS = 20\n",
    "BS = 32"
   ]
  },
  {
   "cell_type": "code",
   "execution_count": 8,
   "metadata": {},
   "outputs": [],
   "source": [
    "# dataset directory path\n",
    "DIRECTORY = r\"C:\\\\Users\\\\ehtisham ahmed\\\\machine learning\\\\face_detection\\\\dataset\"\n",
    "CATEGORIES = [\"with_mask\", \"without_mask\"]"
   ]
  },
  {
   "cell_type": "code",
   "execution_count": 9,
   "metadata": {},
   "outputs": [
    {
     "name": "stdout",
     "output_type": "stream",
     "text": [
      "[INFO] loading images...\n"
     ]
    }
   ],
   "source": [
    "# grab the list of images in our dataset directory, then initialize\n",
    "# the list of data (i.e., images) and class images\n",
    "print(\"[INFO] loading images...\")\n",
    "\n",
    "data = []\n",
    "labels = []"
   ]
  },
  {
   "cell_type": "code",
   "execution_count": 10,
   "metadata": {},
   "outputs": [
    {
     "name": "stderr",
     "output_type": "stream",
     "text": [
      "C:\\Users\\ehtisham ahmed\\anaconda3\\lib\\site-packages\\PIL\\Image.py:932: UserWarning: Palette images with Transparency expressed in bytes should be converted to RGBA images\n",
      "  \"Palette images with Transparency expressed in bytes should be \"\n"
     ]
    }
   ],
   "source": [
    "#save image and label in the list \n",
    "for category in CATEGORIES:\n",
    "    path = os.path.join(DIRECTORY, category)\n",
    "    for img in os.listdir(path):\n",
    "    \timg_path = os.path.join(path, img)\n",
    "        # load image form the path and reshape\n",
    "    \timage = load_img(img_path, target_size=(224, 224))\n",
    "        #convert image to array\n",
    "    \timage = img_to_array(image)\n",
    "        # preprocess apply in to image\n",
    "    \timage = preprocess_input(image)\n",
    "        #append image in the list\n",
    "    \tdata.append(image)\n",
    "        #append label of the above image\n",
    "    \tlabels.append(category)\n"
   ]
  },
  {
   "cell_type": "code",
   "execution_count": 11,
   "metadata": {},
   "outputs": [
    {
     "data": {
      "text/plain": [
       "3833"
      ]
     },
     "execution_count": 11,
     "metadata": {},
     "output_type": "execute_result"
    }
   ],
   "source": [
    "len(data)"
   ]
  },
  {
   "cell_type": "code",
   "execution_count": 13,
   "metadata": {},
   "outputs": [
    {
     "data": {
      "text/plain": [
       "3833"
      ]
     },
     "execution_count": 13,
     "metadata": {},
     "output_type": "execute_result"
    }
   ],
   "source": [
    "len(labels)"
   ]
  },
  {
   "cell_type": "code",
   "execution_count": 14,
   "metadata": {},
   "outputs": [],
   "source": [
    "\n",
    "# perform one-hot encoding on the labels\n",
    "lb = LabelBinarizer()\n",
    "labels = lb.fit_transform(labels)\n",
    "labels = to_categorical(labels)\n",
    "\n",
    "#both image list and label list convert into array\n",
    "data = np.array(data, dtype=\"float32\")\n",
    "labels = np.array(labels)\n",
    "\n"
   ]
  },
  {
   "cell_type": "code",
   "execution_count": 15,
   "metadata": {},
   "outputs": [
    {
     "data": {
      "text/plain": [
       "(3833, 224, 224, 3)"
      ]
     },
     "execution_count": 15,
     "metadata": {},
     "output_type": "execute_result"
    }
   ],
   "source": [
    "data.shape"
   ]
  },
  {
   "cell_type": "code",
   "execution_count": 16,
   "metadata": {},
   "outputs": [
    {
     "data": {
      "text/plain": [
       "(3833, 2)"
      ]
     },
     "execution_count": 16,
     "metadata": {},
     "output_type": "execute_result"
    }
   ],
   "source": [
    "labels.shape"
   ]
  },
  {
   "cell_type": "code",
   "execution_count": 17,
   "metadata": {},
   "outputs": [],
   "source": [
    "#split array in to trian and test array\n",
    "x_train, x_test, y_train, y_test = train_test_split(data, labels,test_size=0.20)"
   ]
  },
  {
   "cell_type": "code",
   "execution_count": 18,
   "metadata": {},
   "outputs": [],
   "source": [
    "# construct the training image generator for data augmentation\n",
    "aug = ImageDataGenerator(\n",
    "\trotation_range=20,\n",
    "\tzoom_range=0.15,\n",
    "\twidth_shift_range=0.2,\n",
    "\theight_shift_range=0.2,\n",
    "\tshear_range=0.15,\n",
    "\thorizontal_flip=True,\n",
    "\tfill_mode=\"nearest\")\n"
   ]
  },
  {
   "cell_type": "code",
   "execution_count": 19,
   "metadata": {},
   "outputs": [
    {
     "name": "stderr",
     "output_type": "stream",
     "text": [
      "C:\\Users\\ehtisham ahmed\\AppData\\Roaming\\Python\\Python37\\site-packages\\keras_applications\\mobilenet_v2.py:294: UserWarning: `input_shape` is undefined or non-square, or `rows` is not in [96, 128, 160, 192, 224]. Weights for input shape (224, 224) will be loaded as the default.\n",
      "  warnings.warn('`input_shape` is undefined or non-square, '\n"
     ]
    },
    {
     "name": "stdout",
     "output_type": "stream",
     "text": [
      "WARNING:tensorflow:From C:\\Users\\ehtisham ahmed\\AppData\\Roaming\\Python\\Python37\\site-packages\\tensorflow_core\\python\\ops\\resource_variable_ops.py:1630: calling BaseResourceVariable.__init__ (from tensorflow.python.ops.resource_variable_ops) with constraint is deprecated and will be removed in a future version.\n",
      "Instructions for updating:\n",
      "If using Keras pass *_constraint arguments to layers.\n",
      "Downloading data from https://github.com/JonathanCMitchell/mobilenet_v2_keras/releases/download/v1.1/mobilenet_v2_weights_tf_dim_ordering_tf_kernels_1.0_224_no_top.h5\n",
      "9412608/9406464 [==============================] - 13s 1us/step\n"
     ]
    }
   ],
   "source": [
    "\n",
    "# load the MobileNetV2 network, ensuring the head FC layer sets are\n",
    "# left off\n",
    "baseModel = MobileNetV2(weights=\"imagenet\", include_top=False,\n",
    "\tinput_tensor=Input(shape=(224, 224, 3)))\n",
    "\n"
   ]
  },
  {
   "cell_type": "code",
   "execution_count": 20,
   "metadata": {},
   "outputs": [],
   "source": [
    "# construct the head of the model that will be placed on top of the\n",
    "# the base model\n",
    "headModel = baseModel.output\n",
    "headModel = AveragePooling2D(pool_size=(7, 7))(headModel)\n",
    "headModel = Flatten(name=\"flatten\")(headModel)\n",
    "headModel = Dense(128, activation=\"relu\")(headModel)\n",
    "headModel = Dropout(0.5)(headModel)\n",
    "headModel = Dense(2, activation=\"softmax\")(headModel)\n",
    "\n",
    "# place the head FC model on top of the base model (this will become\n",
    "# the actual model we will train)\n",
    "model = Model(inputs=baseModel.input, outputs=headModel)\n",
    "\n"
   ]
  },
  {
   "cell_type": "code",
   "execution_count": 21,
   "metadata": {},
   "outputs": [
    {
     "name": "stdout",
     "output_type": "stream",
     "text": [
      "[INFO] compiling model...\n"
     ]
    }
   ],
   "source": [
    "# loop over all layers in the base model and freeze them so they will\n",
    "# *not* be updated during the first training process\n",
    "for layer in baseModel.layers:\n",
    "\tlayer.trainable = False\n",
    "\n",
    "# compile our model\n",
    "print(\"[INFO] compiling model...\")\n",
    "opt = Adam(lr=INIT_LR, decay=INIT_LR / EPOCHS)\n",
    "model.compile(loss=\"binary_crossentropy\", optimizer=opt,\n",
    "\tmetrics=[\"accuracy\"])\n",
    "\n"
   ]
  },
  {
   "cell_type": "code",
   "execution_count": 25,
   "metadata": {},
   "outputs": [
    {
     "name": "stdout",
     "output_type": "stream",
     "text": [
      "[INFO] training head...\n",
      "Epoch 1/20\n",
      "WARNING:tensorflow:From C:\\Users\\ehtisham ahmed\\AppData\\Roaming\\Python\\Python37\\site-packages\\tensorflow_core\\python\\ops\\math_grad.py:1424: where (from tensorflow.python.ops.array_ops) is deprecated and will be removed in a future version.\n",
      "Instructions for updating:\n",
      "Use tf.where in 2.0, which has the same broadcast rule as np.where\n",
      "94/95 [============================>.] - ETA: 11s - loss: 0.5877 - acc: 0.7089Epoch 1/20\n",
      "767/95 [==================================================================================================================================================================================================================================================] - 69s 90ms/sample - loss: 0.3117 - acc: 0.8253\n",
      "95/95 [==============================] - 1191s 13s/step - loss: 0.5841 - acc: 0.7116 - val_loss: 0.3693 - val_acc: 0.8253\n",
      "Epoch 2/20\n",
      "94/95 [============================>.] - ETA: 10s - loss: 0.3178 - acc: 0.8771Epoch 1/20\n",
      "767/95 [==================================================================================================================================================================================================================================================] - 67s 87ms/sample - loss: 0.2971 - acc: 0.8370\n",
      "95/95 [==============================] - 1026s 11s/step - loss: 0.3171 - acc: 0.8774 - val_loss: 0.3487 - val_acc: 0.8370\n",
      "Epoch 3/20\n",
      "94/95 [============================>.] - ETA: 10s - loss: 0.2480 - acc: 0.8957Epoch 1/20\n",
      "767/95 [==================================================================================================================================================================================================================================================] - 69s 89ms/sample - loss: 0.1497 - acc: 0.9257\n",
      "95/95 [==============================] - 1041s 11s/step - loss: 0.2480 - acc: 0.8952 - val_loss: 0.1935 - val_acc: 0.9257\n",
      "Epoch 4/20\n",
      "94/95 [============================>.] - ETA: 10s - loss: 0.1966 - acc: 0.9294Epoch 1/20\n",
      "767/95 [==================================================================================================================================================================================================================================================] - 67s 88ms/sample - loss: 0.1262 - acc: 0.9400\n",
      "95/95 [==============================] - 1038s 11s/step - loss: 0.1963 - acc: 0.9291 - val_loss: 0.1643 - val_acc: 0.9400\n",
      "Epoch 5/20\n",
      "94/95 [============================>.] - ETA: 10s - loss: 0.1688 - acc: 0.9377Epoch 1/20\n",
      "767/95 [==================================================================================================================================================================================================================================================] - 67s 87ms/sample - loss: 0.2320 - acc: 0.8801\n",
      "95/95 [==============================] - 1033s 11s/step - loss: 0.1682 - acc: 0.9384 - val_loss: 0.2738 - val_acc: 0.8801\n",
      "Epoch 6/20\n",
      "94/95 [============================>.] - ETA: 10s - loss: 0.1504 - acc: 0.9447Epoch 1/20\n",
      "767/95 [==================================================================================================================================================================================================================================================] - 67s 87ms/sample - loss: 0.1454 - acc: 0.9218\n",
      "95/95 [==============================] - 1024s 11s/step - loss: 0.1513 - acc: 0.9443 - val_loss: 0.1775 - val_acc: 0.9218\n",
      "Epoch 7/20\n",
      "94/95 [============================>.] - ETA: 10s - loss: 0.1383 - acc: 0.9484Epoch 1/20\n",
      "767/95 [==================================================================================================================================================================================================================================================] - 66s 87ms/sample - loss: 0.1642 - acc: 0.9192\n",
      "95/95 [==============================] - 1041s 11s/step - loss: 0.1376 - acc: 0.9489 - val_loss: 0.1985 - val_acc: 0.9192\n",
      "Epoch 8/20\n",
      "94/95 [============================>.] - ETA: 10s - loss: 0.1386 - acc: 0.9434Epoch 1/20\n",
      "767/95 [==================================================================================================================================================================================================================================================] - 66s 87ms/sample - loss: 0.2048 - acc: 0.8970\n",
      "95/95 [==============================] - 1021s 11s/step - loss: 0.1392 - acc: 0.9430 - val_loss: 0.2429 - val_acc: 0.8970\n",
      "Epoch 9/20\n",
      "94/95 [============================>.] - ETA: 10s - loss: 0.1356 - acc: 0.9527Epoch 1/20\n",
      "767/95 [==================================================================================================================================================================================================================================================] - 67s 88ms/sample - loss: 0.1953 - acc: 0.9074\n",
      "95/95 [==============================] - 1021s 11s/step - loss: 0.1352 - acc: 0.9529 - val_loss: 0.2286 - val_acc: 0.9074\n",
      "Epoch 10/20\n",
      "94/95 [============================>.] - ETA: 10s - loss: 0.1194 - acc: 0.9560Epoch 1/20\n",
      "767/95 [==================================================================================================================================================================================================================================================] - 66s 86ms/sample - loss: 0.1949 - acc: 0.9035\n",
      "95/95 [==============================] - 1022s 11s/step - loss: 0.1193 - acc: 0.9558 - val_loss: 0.2216 - val_acc: 0.9035\n",
      "Epoch 11/20\n",
      "94/95 [============================>.] - ETA: 9s - loss: 0.1188 - acc: 0.9567 Epoch 1/20\n",
      "767/95 [==================================================================================================================================================================================================================================================] - 66s 86ms/sample - loss: 0.2014 - acc: 0.9035\n",
      "95/95 [==============================] - 1015s 11s/step - loss: 0.1186 - acc: 0.9568 - val_loss: 0.2237 - val_acc: 0.9035\n",
      "Epoch 12/20\n",
      "94/95 [============================>.] - ETA: 9s - loss: 0.1033 - acc: 0.9654 Epoch 1/20\n",
      "767/95 [==================================================================================================================================================================================================================================================] - 65s 85ms/sample - loss: 0.2028 - acc: 0.9061\n",
      "95/95 [==============================] - 1013s 11s/step - loss: 0.1046 - acc: 0.9654 - val_loss: 0.2218 - val_acc: 0.9061\n",
      "Epoch 13/20\n",
      "94/95 [============================>.] - ETA: 10s - loss: 0.1083 - acc: 0.9624Epoch 1/20\n",
      "767/95 [==================================================================================================================================================================================================================================================] - 67s 87ms/sample - loss: 0.1912 - acc: 0.9126\n",
      "95/95 [==============================] - 1020s 11s/step - loss: 0.1076 - acc: 0.9628 - val_loss: 0.2143 - val_acc: 0.9126\n",
      "Epoch 14/20\n",
      "94/95 [============================>.] - ETA: 10s - loss: 0.0981 - acc: 0.9650Epoch 1/20\n",
      "767/95 [==================================================================================================================================================================================================================================================] - 66s 86ms/sample - loss: 0.2679 - acc: 0.8853\n",
      "95/95 [==============================] - 1016s 11s/step - loss: 0.0978 - acc: 0.9650 - val_loss: 0.2949 - val_acc: 0.8853\n",
      "Epoch 15/20\n",
      "94/95 [============================>.] - ETA: 10s - loss: 0.1161 - acc: 0.9574Epoch 1/20\n",
      "767/95 [==================================================================================================================================================================================================================================================] - 66s 86ms/sample - loss: 0.2081 - acc: 0.9009\n",
      "95/95 [==============================] - 1016s 11s/step - loss: 0.1158 - acc: 0.9575 - val_loss: 0.2232 - val_acc: 0.9009\n",
      "Epoch 16/20\n"
     ]
    },
    {
     "name": "stdout",
     "output_type": "stream",
     "text": [
      "94/95 [============================>.] - ETA: 9s - loss: 0.0934 - acc: 0.9694 Epoch 1/20\n",
      "767/95 [==================================================================================================================================================================================================================================================] - 66s 86ms/sample - loss: 0.1478 - acc: 0.9335\n",
      "95/95 [==============================] - 1015s 11s/step - loss: 0.0934 - acc: 0.9690 - val_loss: 0.1592 - val_acc: 0.9335\n",
      "Epoch 17/20\n",
      "94/95 [============================>.] - ETA: 9s - loss: 0.1062 - acc: 0.9610 Epoch 1/20\n",
      "767/95 [==================================================================================================================================================================================================================================================] - 66s 86ms/sample - loss: 0.1666 - acc: 0.9257\n",
      "95/95 [==============================] - 1015s 11s/step - loss: 0.1055 - acc: 0.9614 - val_loss: 0.1745 - val_acc: 0.9257\n",
      "Epoch 18/20\n",
      "94/95 [============================>.] - ETA: 9s - loss: 0.0905 - acc: 0.9694 Epoch 1/20\n",
      "767/95 [==================================================================================================================================================================================================================================================] - 66s 86ms/sample - loss: 0.1339 - acc: 0.9387\n",
      "95/95 [==============================] - 1013s 11s/step - loss: 0.0898 - acc: 0.9697 - val_loss: 0.1376 - val_acc: 0.9387\n",
      "Epoch 19/20\n",
      "94/95 [============================>.] - ETA: 9s - loss: 0.0900 - acc: 0.9637 Epoch 1/20\n",
      "767/95 [==================================================================================================================================================================================================================================================] - 66s 86ms/sample - loss: 0.2228 - acc: 0.8970\n",
      "95/95 [==============================] - 1015s 11s/step - loss: 0.0912 - acc: 0.9634 - val_loss: 0.2411 - val_acc: 0.8970\n",
      "Epoch 20/20\n",
      "94/95 [============================>.] - ETA: 10s - loss: 0.0915 - acc: 0.9671Epoch 1/20\n",
      "767/95 [==================================================================================================================================================================================================================================================] - 66s 86ms/sample - loss: 0.1569 - acc: 0.9244\n",
      "95/95 [==============================] - 1018s 11s/step - loss: 0.0910 - acc: 0.9674 - val_loss: 0.1711 - val_acc: 0.9244\n"
     ]
    }
   ],
   "source": [
    "# train the head of the network\n",
    "print(\"[INFO] training head...\")\n",
    "H = model.fit(\n",
    "\taug.flow(x_train, y_train, batch_size=BS),\n",
    "\tsteps_per_epoch=len(x_train) // BS,\n",
    "\tvalidation_data=(x_test, y_test),\n",
    "\tvalidation_steps=len(x_test) // BS,\n",
    "\tepochs=EPOCHS)\n",
    "\n"
   ]
  },
  {
   "cell_type": "code",
   "execution_count": 26,
   "metadata": {},
   "outputs": [
    {
     "name": "stdout",
     "output_type": "stream",
     "text": [
      "[INFO] evaluating network...\n"
     ]
    }
   ],
   "source": [
    "# make predictions on the testing set\n",
    "print(\"[INFO] evaluating network...\")\n",
    "predIdxs = model.predict(x_test, batch_size=BS)\n",
    "\n"
   ]
  },
  {
   "cell_type": "code",
   "execution_count": 27,
   "metadata": {},
   "outputs": [],
   "source": [
    "# for each image in the testing set we need to find the index of the\n",
    "# label with corresponding largest predicted probability\n",
    "predIdxs = np.argmax(predIdxs, axis=1)"
   ]
  },
  {
   "cell_type": "code",
   "execution_count": 28,
   "metadata": {},
   "outputs": [
    {
     "name": "stdout",
     "output_type": "stream",
     "text": [
      "              precision    recall  f1-score   support\n",
      "\n",
      "   with_mask       0.98      0.86      0.92       375\n",
      "without_mask       0.88      0.99      0.93       392\n",
      "\n",
      "    accuracy                           0.92       767\n",
      "   macro avg       0.93      0.92      0.92       767\n",
      "weighted avg       0.93      0.92      0.92       767\n",
      "\n"
     ]
    }
   ],
   "source": [
    "# show a nicely formatted classification report\n",
    "print(classification_report(y_test.argmax(axis=1), predIdxs,\n",
    "\ttarget_names=lb.classes_))\n",
    "\n"
   ]
  },
  {
   "cell_type": "code",
   "execution_count": 29,
   "metadata": {},
   "outputs": [
    {
     "name": "stdout",
     "output_type": "stream",
     "text": [
      "[INFO] saving mask detector model...\n"
     ]
    }
   ],
   "source": [
    "# serialize the model to disk\n",
    "print(\"[INFO] saving mask detector model...\")\n",
    "model.save(\"train_model.model\", save_format=\"h5\")\n",
    "\n"
   ]
  },
  {
   "cell_type": "code",
   "execution_count": 32,
   "metadata": {},
   "outputs": [
    {
     "data": {
      "image/png": "[encoded data removed]",
      "text/plain": [
       "<Figure size 432x288 with 1 Axes>"
      ]
     },
     "metadata": {},
     "output_type": "display_data"
    }
   ],
   "source": [
    "# plot the training loss and accuracy\n",
    "N = EPOCHS\n",
    "plt.style.use(\"ggplot\")\n",
    "plt.figure()\n",
    "plt.plot(np.arange(0, N), H.history[\"loss\"], label=\"train_loss\")\n",
    "plt.plot(np.arange(0, N), H.history[\"val_loss\"], label=\"val_loss\")\n",
    "plt.plot(np.arange(0, N), H.history[\"acc\"], label=\"train_acc\")\n",
    "plt.plot(np.arange(0, N), H.history[\"val_acc\"], label=\"val_acc\")\n",
    "plt.title(\"Training Loss and Accuracy\")\n",
    "plt.xlabel(\"Epoch #\")\n",
    "plt.ylabel(\"Loss/Accuracy\")\n",
    "plt.legend(loc=\"lower left\")\n",
    "plt.savefig(\"plot.png\")"
   ]
  },
  {
   "cell_type": "code",
   "execution_count": null,
   "metadata": {},
   "outputs": [],
   "source": []
  },
  {
   "cell_type": "code",
   "execution_count": null,
   "metadata": {},
   "outputs": [],
   "source": []
  }
 ],
 "metadata": {
  "kernelspec": {
   "display_name": "Python 3",
   "language": "python",
   "name": "python3"
  },
  "language_info": {
   "codemirror_mode": {
    "name": "ipython",
    "version": 3
   },
   "file_extension": ".py",
   "mimetype": "text/x-python",
   "name": "python",
   "nbconvert_exporter": "python",
   "pygments_lexer": "ipython3",
   "version": "3.7.6"
  }
 },
 "nbformat": 4,
 "nbformat_minor": 4
}
